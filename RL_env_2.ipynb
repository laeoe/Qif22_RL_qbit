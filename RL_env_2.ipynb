{
 "cells": [
  {
   "cell_type": "code",
   "execution_count": null,
   "id": "df70bf7f",
   "metadata": {},
   "outputs": [],
   "source": [
    "import gym\n",
    "from gym import spaces\n",
    "import numpy as np\n",
    "from numpy import linalg\n",
    "import scipy as sc\n",
    "from scipy import linalg\n",
    "\n",
    "class GridWorldEnv(gym.Env):\n",
    "    \n",
    "    def __init__(self,maxSteps=20,stepSize=0.1):\n",
    "        \n",
    "        self.maxSteps = maxSteps\n",
    "        self.stepSize = stepSize\n",
    "        self.stepNum = 0\n",
    "        self.initialState = np.array([np.sqrt((5+np.sqrt(5))/10),np.sqrt(2/(5+np.sqrt(5)))])\n",
    "        self.targetState = np.array([-(1+np.sqrt(5))/(np.sqrt(2*(5+np.sqrt(5)))), np.sqrt(2.0/(5+np.sqrt(5)))])\n",
    "        self.state = self.initialState\n",
    "        self.h = [-4,4]\n",
    "        self.Ham0 = sc.linalg.expm(-1j*stepSize*np.array([[-1,self.h[0]],[self.h[0],1]]))\n",
    "        self.Ham1 = sc.linalg.expm(-1j*stepSize*np.array([[-1,self.h[1]],[self.h[1],1]]))\n",
    "        self.Hams = [self.Ham0,self.Ham1]\n",
    "        \n",
    "        #state encoded as a 4-component vector\n",
    "        self.observation_space = spaces.Box(-1,1,shape=(4,),dtype=np.float64)\n",
    "        \n",
    "        # we can apply a positive or negative magnetic field\n",
    "        self.action_space = spaces.Discrete(2)\n",
    "        \n",
    "    def vecTrans(self, state):\n",
    "        return np.array([state[0].real,state[0].imag,state[1].real,state[1].imag])\n",
    "    \n",
    "    def reset(self, options=None):\n",
    "        self.state = self.initialState\n",
    "        observation = self.vecTrans(self.state)\n",
    "        return observation\n",
    "    \n",
    "    def step(self, action): #action 0 or 1\n",
    "        self.state = np.dot(self.Hams[action],self.state)\n",
    "        self.stepNum += 1\n",
    "        fidelity = np.linalg.norm(np.dot(np.conj(self.state).T,self.targetState))**2\n",
    "        if self.step == self.maxSteps or np.abs(fidelity) > 0.99:\n",
    "            reward = fidelity\n",
    "            terminated = True\n",
    "        else:\n",
    "            reward = 0\n",
    "            terminated = False\n",
    "        observation = self.vecTrans(self.state)\n",
    "        info = {}\n",
    "        return observation, reward, terminated, info\n",
    "                                 \n",
    "\n"
   ]
  }
 ],
 "metadata": {
  "kernelspec": {
   "display_name": "Python 3 (ipykernel)",
   "language": "python",
   "name": "python3"
  },
  "language_info": {
   "codemirror_mode": {
    "name": "ipython",
    "version": 3
   },
   "file_extension": ".py",
   "mimetype": "text/x-python",
   "name": "python",
   "nbconvert_exporter": "python",
   "pygments_lexer": "ipython3",
   "version": "3.8.5"
  }
 },
 "nbformat": 4,
 "nbformat_minor": 5
}
